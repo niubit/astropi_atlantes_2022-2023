{
 "cells": [
  {
   "cell_type": "markdown",
   "id": "bc70060a",
   "metadata": {},
   "source": [
    "# Localización poblaciones\n",
    "\n",
    "## Introducción\n",
    "\n",
    "El siguiente objetivo al que nos vamos a enfocar es a localizar las poblaciones más importantes en cada foto. Vamos a utilizar por ejemplo el criterio de que superen los 100.000 habitantes, por lo que tendremos que encontrar alguna fuente de datos que nos permita buscar en un rango de coordenadas (las que caigan dentro de la fotografía o idealmente de la porción visible circular de la misma) y que contenga también el número de habitantes para que podamos filtrar.\n",
    "\n",
    "[Populated places](https://datacore-gn.unepgrid.ch/geonetwork//srv/spa/catalog.search#/metadata/4a64faed-8674-4bb2-baad-fb6446ee3a6d)"
   ]
  },
  {
   "cell_type": "code",
   "execution_count": 3,
   "id": "225c64a4",
   "metadata": {},
   "outputs": [
    {
     "name": "stdout",
     "output_type": "stream",
     "text": [
      "10000\n"
     ]
    }
   ],
   "source": [
    "from dbfread import DBF\n",
    "city15k_gis = DBF('city15k_gis/city15k_gis.dbf')\n",
    "print(len(city15k_gis))\n",
    "#print(city15k_gis[0])"
   ]
  }
 ],
 "metadata": {
  "kernelspec": {
   "display_name": "Python 3 (ipykernel)",
   "language": "python",
   "name": "python3"
  },
  "language_info": {
   "codemirror_mode": {
    "name": "ipython",
    "version": 3
   },
   "file_extension": ".py",
   "mimetype": "text/x-python",
   "name": "python",
   "nbconvert_exporter": "python",
   "pygments_lexer": "ipython3",
   "version": "3.10.6"
  }
 },
 "nbformat": 4,
 "nbformat_minor": 5
}
