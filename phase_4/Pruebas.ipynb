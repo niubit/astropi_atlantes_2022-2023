{
 "cells": [
  {
   "cell_type": "code",
   "execution_count": 1,
   "id": "50fc4483",
   "metadata": {},
   "outputs": [
    {
     "name": "stdout",
     "output_type": "stream",
     "text": [
      "beta493_mediana: -5.678297516262285\n"
     ]
    },
    {
     "data": {
      "image/png": "[encoded data removed]",
      "text/plain": [
       "<Figure size 640x480 with 1 Axes>"
      ]
     },
     "metadata": {},
     "output_type": "display_data"
    }
   ],
   "source": [
    "import os\n",
    "import cv2\n",
    "import math\n",
    "import statistics\n",
    "import matplotlib.pyplot as plt\n",
    "\n",
    "PHOTO_PATH = \"sobrevuelo_pamplona/originales\"\n",
    "PHOTO_START = 493\n",
    "PHOTO_END = 494\n",
    "\n",
    "def calculate_features(image_1_cv, image_2_cv, feature_number):\n",
    "    orb = cv2.ORB_create(nfeatures = feature_number)\n",
    "    keypoints_1, descriptors_1 = orb.detectAndCompute(image_1_cv, None)\n",
    "    keypoints_2, descriptors_2 = orb.detectAndCompute(image_2_cv, None)\n",
    "    return keypoints_1, keypoints_2, descriptors_1, descriptors_2\n",
    "\n",
    "def calculate_matches(descriptors_1, descriptors_2):\n",
    "    brute_force = cv2.BFMatcher(cv2.NORM_HAMMING, crossCheck=True)\n",
    "    matches = brute_force.match(descriptors_1, descriptors_2)\n",
    "    matches = sorted(matches, key=lambda x: x.distance)\n",
    "    return matches\n",
    "\n",
    "def display_matches(image_1_cv, keypoints_1, image_2_cv, keypoints_2, matches):\n",
    "    match_img = cv2.drawMatches(image_1_cv, keypoints_1, image_2_cv, keypoints_2, matches[:10], None)\n",
    "    resize = cv2.resize(match_img, (1600,600), interpolation = cv2.INTER_AREA)\n",
    "    cv2.imshow('matches', resize)\n",
    "    cv2.waitKey(0)\n",
    "    cv2.destroyWindow('matches')\n",
    "\n",
    "def find_matching_coordinates(keypoints_1, keypoints_2, matches):\n",
    "    coordinates_1 = []\n",
    "    coordinates_2 = []\n",
    "    for match in matches:\n",
    "        image_1_idx = match.queryIdx\n",
    "        image_2_idx = match.trainIdx\n",
    "        (x1,y1) = keypoints_1[image_1_idx].pt\n",
    "        (x2,y2) = keypoints_2[image_2_idx].pt\n",
    "        coordinates_1.append((x1,y1))\n",
    "        coordinates_2.append((x2,y2))\n",
    "    return coordinates_1, coordinates_2\n",
    "\n",
    "path = os.path.dirname(os.path.realpath(\"__file__\"))\n",
    "photo_path = os.path.join(path, PHOTO_PATH)\n",
    "for i in range(PHOTO_START, PHOTO_END):\n",
    "    photo_a = os.path.join(photo_path, \"atlantes_%d.jpg\" % (i))\n",
    "    photo_b = os.path.join(photo_path, \"atlantes_%d.jpg\" % (i+1))\n",
    "    photo_a_cv = cv2.imread(photo_a, 0)\n",
    "    photo_b_cv = cv2.imread(photo_b, 0)\n",
    "    keypoints_a, keypoints_b, descriptors_a, descriptors_b = calculate_features(photo_a_cv, photo_b_cv, 1000)\n",
    "    matches = calculate_matches(descriptors_a, descriptors_b)\n",
    "    coordinates_a, coordinates_b = find_matching_coordinates(keypoints_a, keypoints_b, matches)\n",
    "    beta_list = list()\n",
    "    for ca, cb in zip(coordinates_a, coordinates_b):\n",
    "        dx = round(cb[0] - ca[0])\n",
    "        dy = round(cb[1] - ca[1])\n",
    "        beta_rad = math.atan2(-dy, dx)\n",
    "        beta_deg = math.degrees(beta_rad)\n",
    "        beta_list.append(beta_deg)\n",
    "        #print(f\"H: {dx}; V: {dy}; β: {beta_deg}\")\n",
    "    # https://www.mathsisfun.com/data/frequency-grouped-mean-median-mode.html\n",
    "    print(f\"beta{i}_mediana: {statistics.median(beta_list)}\")\n",
    "\n",
    "    # https://mlstudio.jaol.net/matplotlib-histograma-python-ejemplos/\n",
    "    plt.hist(beta_list, bins=200)\n",
    "    plt.gca().set(title='Frequency Histogram', ylabel='Frequency')"
   ]
  },
  {
   "cell_type": "code",
   "execution_count": 21,
   "id": "83dd34cb",
   "metadata": {},
   "outputs": [
    {
     "name": "stdout",
     "output_type": "stream",
     "text": [
      "3280\n",
      "2464\n",
      "4046\n",
      "3694\n"
     ]
    }
   ],
   "source": [
    "# Rotar foto 493 152,78º\n",
    "from PIL import Image\n",
    "\n",
    "PHOTO_ID = 493\n",
    "PHOTO_ANGLE = 152.78\n",
    "PHOTO_ORG_PATH = \"sobrevuelo_pamplona/originales\"\n",
    "PHOTO_ROT_PATH = \"sobrevuelo_pamplona/girada_por_codigo\"\n",
    "path = os.path.dirname(os.path.realpath(\"__file__\"))\n",
    "\n",
    "photo_org_path = os.path.join(path, PHOTO_ORG_PATH)\n",
    "photo_org = os.path.join(photo_org_path, \"atlantes_%d.jpg\" % (PHOTO_ID))\n",
    "photo_rot_path = os.path.join(path, PHOTO_ROT_PATH)\n",
    "photo_rot = os.path.join(photo_rot_path, \"atlantes_%d.jpg\" % (PHOTO_ID))\n",
    "\n",
    "with Image.open(photo_org, 'r') as photo_org_img:\n",
    "    photo_org_w, photo_org_h = photo_org_img.size\n",
    "\n",
    "!convert {photo_org} -rotate {-PHOTO_ANGLE} -gravity Center {photo_rot}\n",
    "\n",
    "with Image.open(photo_rot, 'r') as photo_rot_img:\n",
    "    photo_rot_w, photo_rot_h = photo_rot_img.size\n",
    "\n",
    "print(photo_org_w)\n",
    "print(photo_org_h)\n",
    "print(photo_rot_w)\n",
    "print(photo_rot_h)\n",
    "\n",
    "x = (photo_rot_w - photo_org_w) / 2\n",
    "y = (photo_rot_h - photo_org_h) / 2\n",
    "\n",
    "!convert {photo_rot} -crop {photo_org_w}x{photo_org_h}+{x}+{y} -gravity Center {photo_rot}"
   ]
  },
  {
   "cell_type": "markdown",
   "id": "75e2fc77",
   "metadata": {},
   "source": [
    "`convert ${i} -crop wxh+x+y -resize wsxhs -gravity Center ${new}`\n",
    "\n",
    "donde:\n",
    "\n",
    "* w: ancho del crop\n",
    "* h: alto del crop\n",
    "* x: posición horizontal esquina superior derecha del crop\n",
    "* y: posición vertical esquina superior derecha del crop\n",
    "* ws: ancho del reescalado final\n",
    "* hs: alto del reescalado final"
   ]
  },
  {
   "cell_type": "code",
   "execution_count": 27,
   "id": "aab0accd",
   "metadata": {},
   "outputs": [
    {
     "data": {
      "text/plain": [
       "True"
      ]
     },
     "execution_count": 27,
     "metadata": {},
     "output_type": "execute_result"
    }
   ],
   "source": [
    "# Rotación imágenes con OpenCV\n",
    "# https://stackoverflow.com/questions/9041681/opencv-python-rotate-image-by-x-degrees-around-specific-point\n",
    "import numpy as np\n",
    "import cv2\n",
    "\n",
    "def rotate_image(image, angle):\n",
    "  image_center = tuple(np.array(image.shape[1::-1]) / 2)\n",
    "  rot_mat = cv2.getRotationMatrix2D(image_center, angle, 1.0)\n",
    "  result = cv2.warpAffine(image, rot_mat, image.shape[1::-1], flags=cv2.INTER_LINEAR)\n",
    "  return result\n",
    "\n",
    "PHOTO_ID = 493\n",
    "PHOTO_ANGLE = 152.78\n",
    "PHOTO_ORG_PATH = \"sobrevuelo_pamplona/originales\"\n",
    "PHOTO_ROT_PATH = \"sobrevuelo_pamplona/girada_por_codigo2\"\n",
    "path = os.path.dirname(os.path.realpath(\"__file__\"))\n",
    "\n",
    "photo_org_path = os.path.join(path, PHOTO_ORG_PATH)\n",
    "photo_org = os.path.join(photo_org_path, \"atlantes_%d.jpg\" % (PHOTO_ID))\n",
    "photo_rot_path = os.path.join(path, PHOTO_ROT_PATH)\n",
    "photo_rot = os.path.join(photo_rot_path, \"atlantes_%d.jpg\" % (PHOTO_ID))\n",
    "\n",
    "photo_org_cv = cv2.imread(photo_org, cv2.IMREAD_UNCHANGED)\n",
    "photo_rot_cv = rotate_image(photo_org_cv, PHOTO_ANGLE)\n",
    "cv2.imwrite(photo_rot, photo_rot_cv)"
   ]
  },
  {
   "cell_type": "code",
   "execution_count": 3,
   "id": "d624122d",
   "metadata": {},
   "outputs": [
    {
     "name": "stdout",
     "output_type": "stream",
     "text": [
      "-2.3949444444444445\n"
     ]
    }
   ],
   "source": [
    "# Función conversión coordenada en formato DMS (grados, minutos, segundos) a decimal\n",
    "def dms2dec(dms, ref):\n",
    "    return (dms[0] + dms[1] / 60. + dms[2] / 3600.) * (1 if ref in ('N', 'E') else -1)\n",
    "\n",
    "lat_a = (43.0, 5.0, 51.4)\n",
    "lat_a_ref = 'N'\n",
    "lat_b = (2.0, 23.0, 41.8)\n",
    "lat_b_ref = 'W'\n",
    "\n",
    "print(dms2dec(lat_b, lat_b_ref))\n",
    "\n",
    "#    pnt_493 = (43.097612303689, -2.3949488058073)\n",
    "#    pnt_494 = (42.5769655132425, -1.34409030873256)\n",
    "#    pnt_X = (43.097612303689, -1.34409030873256)\n"
   ]
  },
  {
   "cell_type": "code",
   "execution_count": 4,
   "id": "b31b1415",
   "metadata": {},
   "outputs": [
    {
     "name": "stdout",
     "output_type": "stream",
     "text": [
      "%pylab is deprecated, use %matplotlib inline and import the required libraries.\n",
      "Populating the interactive namespace from numpy and matplotlib\n"
     ]
    },
    {
     "data": {
      "image/png": "[encoded data removed]",
      "text/plain": [
       "<Figure size 900x720 with 1 Axes>"
      ]
     },
     "metadata": {},
     "output_type": "display_data"
    }
   ],
   "source": [
    "# Gráfico de altitud\n",
    "%pylab inline\n",
    "import os\n",
    "import pandas\n",
    "\n",
    "# Adjusting chart dimensions    \n",
    "plt.rcParams[\"figure.figsize\"] = (10, 8)                  # Size of charts in inches\n",
    "plt.rcParams[\"figure.dpi\"] = 90                           # Resolution of charts in DPIs\n",
    "\n",
    "# Defining some environment variables for data sources\n",
    "path = os.path.dirname(os.path.realpath(\"__file__\"))\n",
    "RESULTS_FILE = \"atlantes_2021-2022.csv\"     \n",
    "\n",
    "file = os.path.join(path, RESULTS_FILE)    # CSV input file complete path\n",
    "\n",
    "data = pandas.read_csv(file, parse_dates=[0])       # Reading whole file\n",
    "\n",
    "# Columns in file:\n",
    "#    \"datetime\", \"picture_file\", \"latitude\", \"longitude\", \"elevation\", \"temp_cpu\", \"temp_h\", \"temp_p\",\n",
    "#    \"humidity\", \"pressure\", \"pitch\", \"roll\", \"yaw\", \"mag_x\", \"mag_y\", \"mag_z\",\n",
    "#    \"accel_x\", \"accel_y\", \"accel_z\", \"gyro_x\", \"gyro_y\", \"gyro_z\"\n",
    "data_x = data.datetime\n",
    "data_y1 = data.elevation\n",
    "\n",
    "\n",
    "fig, ax = plt.subplots()\n",
    "ax.plot(data_x, data_y1, label=\"Altitud\", color=\"red\")\n",
    "\n",
    "plt.legend()                                  # Activating chart legend\n",
    "plt.grid()                                    # Activating chart grid\n",
    "plt.show()                                    # Showing the chart"
   ]
  },
  {
   "cell_type": "code",
   "execution_count": 5,
   "id": "d1ca7644",
   "metadata": {},
   "outputs": [
    {
     "name": "stdout",
     "output_type": "stream",
     "text": [
      "193.8325041492589 km\n",
      "176.94488493682684 km\n",
      "76.8443648748625 km\n"
     ]
    }
   ],
   "source": [
    "# Península de la Magdalena: 43.469456, -3.768367\n",
    "# Balsa de Ezkoriz: 42.778379, -1.575647\n",
    "# 1105x512\n",
    "\n",
    "# https://www.cosmoscalibur.com/blog/calcular-distancia-geodesica-con-python/\n",
    "import geopy.distance\n",
    "\n",
    "pnt_493 = (43.469456, -3.768367)\n",
    "pnt_494 = (42.778379, -1.575647)\n",
    "pnt_X = (43.469456, -1.575647)\n",
    "\n",
    "print(geopy.distance.great_circle(pnt_493, pnt_494))\n",
    "print(geopy.distance.great_circle(pnt_493, pnt_X))\n",
    "print(geopy.distance.great_circle(pnt_X, pnt_494))"
   ]
  },
  {
   "cell_type": "markdown",
   "id": "ea872069",
   "metadata": {},
   "source": [
    "* 1105px equivalen a 176945m\n",
    "* 512px  equivalen a 76844m\n",
    "\n",
    "GSD (m/pixel): 161.38456\n",
    "\n",
    "* 1105px = 178330m\n",
    "* 512px  = 82629m"
   ]
  },
  {
   "cell_type": "code",
   "execution_count": 6,
   "id": "1fcb5dd6",
   "metadata": {},
   "outputs": [
    {
     "name": "stdout",
     "output_type": "stream",
     "text": [
      "Foto: 445; alpha: 20.513879965716082; gamma: 206.40375773064346\n",
      "Foto: 446; alpha: 19.41345026509236; gamma: 205.30332803001974\n",
      "Foto: 447; alpha: 18.294524243199554; gamma: 204.18440200812694\n",
      "Foto: 448; alpha: 17.15850726515467; gamma: 203.04838503008204\n",
      "Foto: 449; alpha: 16.003139921678297; gamma: 201.89301768660567\n",
      "Foto: 450; alpha: 14.834328663657553; gamma: 200.72420642858492\n",
      "Foto: 451; alpha: 13.647427236252012; gamma: 199.5373050011794\n",
      "Foto: 452; alpha: 12.447208908255812; gamma: 198.3370866731832\n",
      "Foto: 453; alpha: 11.23342849903942; gamma: 197.1233062639668\n",
      "Foto: 454; alpha: 10.00553882625628; gamma: 195.89541659118368\n",
      "Foto: 455; alpha: 8.768888413853645; gamma: 194.65876617878104\n",
      "Foto: 456; alpha: 7.520241494402383; gamma: 193.41011925932978\n",
      "Foto: 457; alpha: 6.261830192501049; gamma: 192.15170795742844\n",
      "Foto: 458; alpha: 4.9988872439592384; gamma: 190.88876500888662\n",
      "Foto: 459; alpha: 3.7258096384119677; gamma: 189.61568740333934\n",
      "Foto: 460; alpha: 2.4508813821963087; gamma: 188.3407591471237\n",
      "Foto: 461; alpha: 1.1723728219140284; gamma: 187.0622505868414\n",
      "Foto: 462; alpha: -0.10971242920438022; gamma: 185.780165335723\n",
      "Foto: 463; alpha: -1.3913774180395584; gamma: 184.49850034688782\n",
      "Foto: 464; alpha: -2.6718409811483443; gamma: 183.21803678377904\n",
      "Foto: 465; alpha: -3.9506108419484276; gamma: 181.93926692297896\n",
      "Foto: 466; alpha: -5.223195410171575; gamma: 180.6666823547558\n",
      "Foto: 467; alpha: -6.494281618734384; gamma: 179.395596146193\n",
      "Foto: 468; alpha: -7.755016923455526; gamma: 178.13486084147186\n",
      "Foto: 469; alpha: -9.007507789764139; gamma: 176.88236997516324\n",
      "Foto: 470; alpha: -10.252998211001144; gamma: 175.63687955392624\n",
      "Foto: 471; alpha: -11.483284934339991; gamma: 174.40659283058739\n",
      "Foto: 472; alpha: -12.706519557125631; gamma: 173.18335820780175\n",
      "Foto: 473; alpha: -13.913428205989913; gamma: 171.97644955893747\n",
      "Foto: 474; alpha: -15.105003835205226; gamma: 170.78487392972215\n",
      "Foto: 475; alpha: -16.282959708569336; gamma: 169.60691805635804\n",
      "Foto: 476; alpha: -17.443676396431307; gamma: 168.44620136849608\n",
      "Foto: 477; alpha: -18.58930845765902; gamma: 167.30056930726838\n",
      "Foto: 478; alpha: -19.713956538114704; gamma: 166.17592122681268\n",
      "Foto: 479; alpha: -20.82131090572412; gamma: 165.06856685920326\n",
      "Foto: 480; alpha: -21.909662785946736; gamma: 163.98021497898065\n",
      "Foto: 481; alpha: -22.977637761766427; gamma: 162.91224000316095\n",
      "Foto: 482; alpha: -24.02496464836012; gamma: 161.86491311656727\n",
      "Foto: 483; alpha: -25.052830341684864; gamma: 160.83704742324252\n",
      "Foto: 484; alpha: -26.060026335645667; gamma: 159.82985142928172\n",
      "Foto: 485; alpha: -27.04486058999828; gamma: 158.8450171749291\n",
      "Foto: 486; alpha: -28.009233035858667; gamma: 157.8806447290687\n",
      "Foto: 487; alpha: -28.951064559096032; gamma: 156.93881320583137\n",
      "Foto: 488; alpha: -29.87279497755563; gamma: 156.01708278737175\n",
      "Foto: 489; alpha: -30.772024893614006; gamma: 155.11785287131337\n",
      "Foto: 490; alpha: -31.650503422391072; gamma: 154.2393743425363\n",
      "Foto: 491; alpha: -32.50675491078853; gamma: 153.38312285413886\n",
      "Foto: 492; alpha: -33.34390430567646; gamma: 152.54597345925092\n",
      "Foto: 493; alpha: -34.15737877699998; gamma: 151.7324989879274\n",
      "Foto: 494; alpha: -34.95144646474652; gamma: 150.93843130018087\n",
      "Foto: 495; alpha: -35.72540945932654; gamma: 150.16446830560085\n",
      "Foto: 496; alpha: -36.476580641974905; gamma: 149.41329712295249\n",
      "Foto: 497; alpha: -37.210819251170115; gamma: 148.67905851375727\n",
      "Foto: 498; alpha: -37.92148687176588; gamma: 147.9683908931615\n",
      "Foto: 499; alpha: -38.61619447987261; gamma: 147.27368328505477\n",
      "Foto: 500; alpha: -39.28857042371989; gamma: 146.6013073412075\n",
      "Foto: 501; alpha: -39.944254610564826; gamma: 145.94562315436255\n",
      "Foto: 502; alpha: -40.5814031289034; gamma: 145.308474636024\n",
      "Foto: 503; alpha: -41.198268638738874; gamma: 144.6916091261885\n",
      "Foto: 504; alpha: -41.79887347237174; gamma: 144.09100429255565\n",
      "Foto: 505; alpha: -42.38002156180328; gamma: 143.50985620312412\n",
      "Foto: 506; alpha: -42.946314725954245; gamma: 142.94356303897314\n",
      "Foto: 507; alpha: -43.495983785245315; gamma: 142.39389397968208\n",
      "Foto: 508; alpha: -44.026001526367324; gamma: 141.86387623856007\n",
      "Foto: 509; alpha: -44.541554809952885; gamma: 141.3483229549745\n",
      "Foto: 510; alpha: -45.04237634536562; gamma: 140.84750141956175\n",
      "Foto: 511; alpha: -45.52383390468819; gamma: 140.3660438602392\n",
      "Foto: 512; alpha: -45.99396831795766; gamma: 139.8959094469697\n",
      "Foto: 513; alpha: -46.4459868949541; gamma: 139.44389086997327\n",
      "Foto: 514; alpha: -46.88632541870088; gamma: 139.0035523462265\n",
      "Foto: 515; alpha: -47.31016371639273; gamma: 138.57971404853464\n",
      "Foto: 516; alpha: -47.72002509111341; gamma: 138.16985267381398\n",
      "Foto: 517; alpha: -48.11565091570687; gamma: 137.7742268492205\n",
      "Foto: 518; alpha: -48.498983052353836; gamma: 137.39089471257356\n",
      "Foto: 519; alpha: -48.86852295733169; gamma: 137.02135480759569\n",
      "Foto: 520; alpha: -49.22351016773113; gamma: 136.66636759719626\n",
      "Foto: 521; alpha: -49.568020364297396; gamma: 136.32185740063\n",
      "Foto: 522; alpha: -49.898820301783296; gamma: 135.9910574631441\n",
      "Foto: 523; alpha: -50.21772107976966; gamma: 135.67215668515772\n",
      "Foto: 524; alpha: -50.52365261145985; gamma: 135.36622515346752\n",
      "Foto: 525; alpha: -50.81813071554156; gamma: 135.07174704938583\n",
      "Foto: 526; alpha: -51.10099833974641; gamma: 134.78887942518097\n",
      "Foto: 527; alpha: -51.37369236226917; gamma: 134.5161854026582\n",
      "Foto: 528; alpha: -51.632854762936866; gamma: 134.25702300199052\n",
      "Foto: 529; alpha: -51.88118707866821; gamma: 134.00869068625917\n",
      "Foto: 530; alpha: -52.11850811641635; gamma: 133.77136964851104\n",
      "Foto: 531; alpha: -52.345729772244894; gamma: 133.5441479926825\n",
      "Foto: 532; alpha: -52.56344964846377; gamma: 133.3264281164636\n",
      "Foto: 533; alpha: -52.768771847836284; gamma: 133.12110591709109\n",
      "Foto: 534; alpha: -52.963336610757494; gamma: 132.92654115416988\n",
      "Foto: 535; alpha: -53.15036242167117; gamma: 132.73951534325622\n",
      "Foto: 536; alpha: -53.32522104687672; gamma: 132.56465671805066\n",
      "Foto: 537; alpha: -53.48882508323985; gamma: 132.40105268168753\n",
      "Foto: 538; alpha: -53.64629361881652; gamma: 132.24358414611086\n",
      "Foto: 539; alpha: -53.791940713264324; gamma: 132.09793705166305\n",
      "Foto: 540; alpha: -53.92630737875855; gamma: 131.96357038616884\n",
      "Foto: 541; alpha: -54.05550370838774; gamma: 131.83437405653964\n",
      "Foto: 542; alpha: -54.17084592340936; gamma: 131.71903184151802\n",
      "Foto: 543; alpha: -54.27876299468277; gamma: 131.61111477024463\n",
      "Foto: 544; alpha: -54.378239897345615; gamma: 131.51163786758178\n",
      "Foto: 545; alpha: -54.46651347093539; gamma: 131.423364293992\n",
      "Foto: 546; alpha: -54.54766855638941; gamma: 131.34220920853798\n",
      "Foto: 547; alpha: -54.61848071743288; gamma: 131.2713970474945\n",
      "Foto: 548; alpha: -54.680067259482975; gamma: 131.2098105054444\n",
      "Foto: 549; alpha: -54.73177098032423; gamma: 131.15810678460315\n",
      "Foto: 550; alpha: -54.77744292362353; gamma: 131.11243484130387\n",
      "Foto: 551; alpha: -54.81127596021438; gamma: 131.078601804713\n",
      "Foto: 552; alpha: -54.83721559610433; gamma: 131.05266216882305\n",
      "Foto: 553; alpha: -54.85529360939251; gamma: 131.03458415553487\n",
      "Foto: 554; alpha: -54.862704973790734; gamma: 131.02717279113665\n",
      "Foto: 555; alpha: -54.862635206370875; gamma: 131.0272425585565\n",
      "Foto: 556; alpha: -54.853061416915935; gamma: 131.03681634801146\n",
      "Foto: 557; alpha: -54.83452890981073; gamma: 131.05534885511665\n",
      "Foto: 558; alpha: -54.80669951832649; gamma: 131.08317824660088\n",
      "Foto: 559; alpha: -54.7709108327601; gamma: 131.11896693216727\n",
      "Foto: 560; alpha: -54.7249114136368; gamma: 131.1649663512906\n",
      "Foto: 561; alpha: -54.67202569189288; gamma: 131.21785207303452\n",
      "Foto: 562; alpha: -54.60839622051627; gamma: 131.28148154441112\n",
      "Foto: 563; alpha: -54.53651112371121; gamma: 131.35336664121618\n",
      "Foto: 564; alpha: -54.455616672553795; gamma: 131.4342610923736\n",
      "Foto: 565; alpha: -54.36450012461155; gamma: 131.52537764031584\n",
      "Foto: 566; alpha: -54.26464500212878; gamma: 131.6252327627986\n",
      "Foto: 567; alpha: -54.15494695501879; gamma: 131.7349308099086\n",
      "Foto: 568; alpha: -54.038867629738085; gamma: 131.8510101351893\n",
      "Foto: 569; alpha: -53.90980256099125; gamma: 131.98007520393614\n",
      "Foto: 570; alpha: -53.77388387361014; gamma: 132.11599389131726\n",
      "Foto: 571; alpha: -53.6259121749312; gamma: 132.2639655899962\n",
      "Foto: 572; alpha: -53.46980195883555; gamma: 132.42007580609183\n",
      "Foto: 573; alpha: -53.30446365151278; gamma: 132.5854141134146\n",
      "Foto: 574; alpha: -53.127288351994075; gamma: 132.76258941293332\n"
     ]
    },
    {
     "name": "stdout",
     "output_type": "stream",
     "text": [
      "Foto: 575; alpha: -52.9437050129708; gamma: 132.94617275195657\n",
      "Foto: 576; alpha: -52.745646460849485; gamma: 133.1442313040779\n",
      "Foto: 577; alpha: -52.538464338328964; gamma: 133.3514134265984\n",
      "Foto: 578; alpha: -52.32405632398258; gamma: 133.5658214409448\n",
      "Foto: 579; alpha: -52.095490641768016; gamma: 133.79438712315937\n",
      "Foto: 580; alpha: -51.857285107133535; gamma: 134.03259265779386\n",
      "Foto: 581; alpha: -51.60867959309459; gamma: 134.28119817183278\n",
      "Foto: 582; alpha: -51.348704042985354; gamma: 134.54117372194202\n",
      "Foto: 583; alpha: -51.07901116858226; gamma: 134.81086659634514\n",
      "Foto: 584; alpha: -50.7964331274641; gamma: 135.09344463746328\n",
      "Foto: 585; alpha: -50.50201539732251; gamma: 135.38786236760487\n",
      "Foto: 586; alpha: -50.19496251602297; gamma: 135.6949152489044\n",
      "Foto: 587; alpha: -49.879707297920376; gamma: 136.01017046700701\n",
      "Foto: 588; alpha: -49.54908343133831; gamma: 136.3407943335891\n",
      "Foto: 589; alpha: -49.207947792845765; gamma: 136.6819299720816\n",
      "Foto: 590; alpha: -48.85314919113106; gamma: 137.03672857379632\n",
      "Foto: 591; alpha: -48.48543325402681; gamma: 137.4044445109006\n",
      "Foto: 592; alpha: -48.104691104094485; gamma: 137.7851866608329\n",
      "Foto: 593; alpha: -47.712339905845944; gamma: 138.17753785908144\n",
      "Foto: 594; alpha: -47.30316130674792; gamma: 138.58671645817947\n",
      "Foto: 595; alpha: -46.883169712543875; gamma: 139.00670805238352\n",
      "Foto: 596; alpha: -46.44838577491763; gamma: 139.44149199000975\n",
      "Foto: 597; alpha: -45.9990335216377; gamma: 139.89084424328968\n",
      "Foto: 598; alpha: -45.53292853620327; gamma: 140.35694922872412\n",
      "Foto: 599; alpha: -45.05644769506028; gamma: 140.83343006986712\n",
      "Foto: 600; alpha: -44.561038078943085; gamma: 141.3288396859843\n",
      "Foto: 601; alpha: -44.05216037251014; gamma: 141.83771739241723\n",
      "Foto: 602; alpha: -43.52548180929543; gamma: 142.36439595563195\n",
      "Foto: 603; alpha: -42.98484548609312; gamma: 142.90503227883426\n",
      "Foto: 604; alpha: -42.42696973487774; gamma: 143.46290803004965\n",
      "Foto: 605; alpha: -41.85199813937363; gamma: 144.03787962555376\n",
      "Foto: 606; alpha: -41.260591972478245; gamma: 144.62928579244914\n",
      "Foto: 607; alpha: -40.65306492408172; gamma: 145.23681284084566\n",
      "Foto: 608; alpha: -40.02527455368601; gamma: 145.8646032112414\n",
      "Foto: 609; alpha: -39.38008196289033; gamma: 146.50979580203705\n",
      "Foto: 610; alpha: -38.71883047529308; gamma: 147.17104728963432\n",
      "Foto: 611; alpha: -38.03761853401914; gamma: 147.85225923090826\n",
      "Foto: 612; alpha: -37.33805362238984; gamma: 148.55182414253755\n",
      "Foto: 613; alpha: -36.61889874920096; gamma: 149.27097901572643\n",
      "Foto: 614; alpha: -35.88073101637879; gamma: 150.0091467485486\n",
      "Foto: 615; alpha: -35.123522151583686; gamma: 150.7663556133437\n",
      "Foto: 616; alpha: -34.34501841667703; gamma: 151.54485934825036\n",
      "Foto: 617; alpha: -33.54739834652324; gamma: 152.34247941840414\n",
      "Foto: 618; alpha: -32.73081810028293; gamma: 153.15905966464445\n",
      "Foto: 619; alpha: -31.892093295434975; gamma: 153.99778446949242\n",
      "Foto: 620; alpha: -31.034164915622306; gamma: 154.85571284930506\n",
      "Foto: 621; alpha: -30.15526732814427; gamma: 155.7346104367831\n",
      "%pylab is deprecated, use %matplotlib inline and import the required libraries.\n",
      "Populating the interactive namespace from numpy and matplotlib\n"
     ]
    },
    {
     "data": {
      "image/png": "[encoded data removed]",
      "text/plain": [
       "<Figure size 640x480 with 1 Axes>"
      ]
     },
     "metadata": {},
     "output_type": "display_data"
    }
   ],
   "source": [
    "# Ángulo de rotación de cada foto\n",
    "import os\n",
    "import cv2\n",
    "import numpy as np\n",
    "import math\n",
    "import exif\n",
    "from geopy import distance\n",
    "\n",
    "\n",
    "def dms2dec(dms, ref):\n",
    "    return (dms[0] + dms[1] / 60. + dms[2] / 3600.) * (1 if ref in ('N', 'E') else -1)\n",
    "\n",
    "def rotate_image(image, angle):\n",
    "  image_center = tuple(np.array(image.shape[1::-1]) / 2)\n",
    "  rot_mat = cv2.getRotationMatrix2D(image_center, angle, 1.0)\n",
    "  result = cv2.warpAffine(image, rot_mat, image.shape[1::-1], flags=cv2.INTER_LINEAR)\n",
    "  return result\n",
    "\n",
    "PHOTO_ORG_PATH = \"atlantes_2021-2022\"\n",
    "PHOTO_ROT_PATH = \"atlantes_2021-2022_rotadas\"\n",
    "PHOTO_START = 445\n",
    "PHOTO_END = 622\n",
    "BETA = -5.889877764927383\n",
    "path = os.path.dirname(os.path.realpath(\"__file__\"))\n",
    "\n",
    "photo_org_path = os.path.join(path, PHOTO_ORG_PATH)\n",
    "photo_rot_path = os.path.join(path, PHOTO_ROT_PATH)\n",
    "data_x = list()\n",
    "data_y = list()\n",
    "\n",
    "for i in range(PHOTO_START, PHOTO_END):\n",
    "    photo_a_path = os.path.join(photo_org_path, \"atlantes_%d.jpg\" % (i))\n",
    "    photo_b_path = os.path.join(photo_org_path, \"atlantes_%d.jpg\" % (i+1))\n",
    "    if os.path.isfile(photo_a_path) and os.path.isfile(photo_b_path):\n",
    "        photo_a_file = open(photo_a_path, 'rb')\n",
    "        photo_b_file = open(photo_b_path, 'rb')\n",
    "        img_a = exif.Image(photo_a_file)\n",
    "        img_b = exif.Image(photo_b_file)\n",
    "        pnt_a = (dms2dec(img_a.get('gps_latitude'), img_a.get('gps_latitude_ref')), dms2dec(img_a.get('gps_longitude'), img_a.get('gps_longitude_ref')))\n",
    "        pnt_b = (dms2dec(img_b.get('gps_latitude'), img_b.get('gps_latitude_ref')), dms2dec(img_b.get('gps_longitude'), img_b.get('gps_longitude_ref')))\n",
    "        pnt_X = (pnt_a[0], pnt_b[1])\n",
    "        dx = distance.great_circle(pnt_a, pnt_X).km * (1 if pnt_b[1] > pnt_a[1] else -1)\n",
    "        dy = distance.great_circle(pnt_X, pnt_b).km * (1 if pnt_b[0] > pnt_a[0] else -1)\n",
    "        alpha_rad = math.atan2(dy, dx)\n",
    "        alpha_deg = math.degrees(alpha_rad)\n",
    "        gamma = alpha_deg - BETA + 180\n",
    "\n",
    "        photo_a_file.close()\n",
    "        photo_b_file.close()\n",
    "\n",
    "        print(f'Foto: {i}; alpha: {alpha_deg}; gamma: {gamma}')\n",
    "        data_x.append(i)\n",
    "        data_y.append(gamma)\n",
    "\n",
    "%pylab inline\n",
    "\n",
    "fig, ax = plt.subplots()\n",
    "ax.plot(data_x, data_y, label=\"Gamma\", color=\"red\")\n",
    "\n",
    "plt.legend()                                  # Activating chart legend\n",
    "plt.grid()                                    # Activating chart grid\n",
    "plt.show()                                    # Showing the chart"
   ]
  },
  {
   "cell_type": "code",
   "execution_count": 18,
   "id": "46b07b52",
   "metadata": {
    "scrolled": true
   },
   "outputs": [
    {
     "name": "stdout",
     "output_type": "stream",
     "text": [
      "52220.581363813675\n",
      "23343.30477465922\n",
      "46672.246076806594\n"
     ]
    }
   ],
   "source": [
    "# https://www.cosmoscalibur.com/blog/calcular-distancia-geodesica-con-python/\n",
    "from geopy import distance\n",
    "\n",
    "pnt_A = (43.517345, -2.684443)\n",
    "pnt_B = (43.097612, -2.394949)\n",
    "pnt_X = (43.517345, -2.394949)\n",
    "\n",
    "print(distance.great_circle(pnt_A, pnt_B).m)\n",
    "print(distance.great_circle(pnt_A, pnt_X).m)\n",
    "print(distance.great_circle(pnt_X, pnt_B).m)\n",
    "\n",
    "# Distancia: 52220.58136381367 m\n",
    "# α = -33.34390430567646\n",
    "# 𝛽 = -5.889877764927383\n",
    "# γ = 152.54597345925092"
   ]
  },
  {
   "cell_type": "code",
   "execution_count": 20,
   "id": "00ddaf4d",
   "metadata": {},
   "outputs": [
    {
     "name": "stdout",
     "output_type": "stream",
     "text": [
      "116.57210389699891\n"
     ]
    }
   ],
   "source": [
    "import math\n",
    "\n",
    "delta_rad = math.atan2(46672.246076806594, -23343.30477465922)\n",
    "delta_deg = math.degrees(delta_rad)\n",
    "print(delta_deg)"
   ]
  },
  {
   "cell_type": "code",
   "execution_count": 15,
   "id": "385e3656",
   "metadata": {},
   "outputs": [
    {
     "name": "stdout",
     "output_type": "stream",
     "text": [
      "866.4554329098685\n",
      "864.2144943393625\n",
      "866.4554329098685\n",
      "Zaragoza, Aragón, España\n",
      "(41.6521342, -0.8809428)\n"
     ]
    }
   ],
   "source": [
    "from geopy import distance, Nominatim\n",
    "newport_ri = (41.49008, -71.312796)\n",
    "cleveland_oh = (41.499498, -81.695391)\n",
    "print(distance.distance(newport_ri, cleveland_oh).km)\n",
    "print(distance.great_circle(newport_ri, cleveland_oh).km)\n",
    "print(distance.geodesic(newport_ri, cleveland_oh).km)\n",
    "\n",
    "pp, za = Nominatim(user_agent=\"astropi_atlantes\").geocode('Zaragoza, Aragón, España')\n",
    "print(pp)\n",
    "print(za)"
   ]
  },
  {
   "cell_type": "code",
   "execution_count": 26,
   "id": "f2a7bd00",
   "metadata": {},
   "outputs": [
    {
     "data": {
      "text/plain": [
       "Point(43.51727245438404, -2.6846413816239, 0.0)"
      ]
     },
     "execution_count": 26,
     "metadata": {},
     "output_type": "execute_result"
    }
   ],
   "source": [
    "# Foto 492\n",
    "from geopy import distance\n",
    "\n",
    "distance.great_circle(kilometers=52.220581363813675).destination((43.097612, -2.394949), bearing=90-116.57210389699891)"
   ]
  },
  {
   "cell_type": "code",
   "execution_count": 24,
   "id": "70ecf6a7",
   "metadata": {},
   "outputs": [
    {
     "data": {
      "text/plain": [
       "Point(-0.9199163182257311, 41.99521173855992, 0.0)"
      ]
     },
     "execution_count": 24,
     "metadata": {},
     "output_type": "execute_result"
    }
   ],
   "source": [
    "# Foto 557\n",
    "from geopy import distance\n",
    "\n",
    "distance.distance(kilometers=52.220581363813675).destination((-1.388801, 42.051250), bearing=90-96.86)"
   ]
  },
  {
   "cell_type": "code",
   "execution_count": 25,
   "id": "a449d1d4",
   "metadata": {},
   "outputs": [
    {
     "data": {
      "text/plain": [
       "Point(-0.922532198193617, 41.99514894957518, 0.0)"
      ]
     },
     "execution_count": 25,
     "metadata": {},
     "output_type": "execute_result"
    }
   ],
   "source": [
    "# Foto 557\n",
    "from geopy import distance\n",
    "\n",
    "distance.great_circle(kilometers=52.220581363813675).destination((-1.388801, 42.051250), bearing=90-96.86)"
   ]
  },
  {
   "cell_type": "markdown",
   "id": "f19b0ae0",
   "metadata": {},
   "source": [
    "$$\n",
    "\\delta_1 = \\delta_0 - \\gamma_0 + \\gamma_1\n",
    "$$\n",
    "\n",
    "$$\n",
    "\\delta = 116.57210389699891 - 152.54597345925092 + \\gamma = \\gamma - 35,973869562\n",
    "$$"
   ]
  }
 ],
 "metadata": {
  "kernelspec": {
   "display_name": "Python 3 (ipykernel)",
   "language": "python",
   "name": "python3"
  },
  "language_info": {
   "codemirror_mode": {
    "name": "ipython",
    "version": 3
   },
   "file_extension": ".py",
   "mimetype": "text/x-python",
   "name": "python",
   "nbconvert_exporter": "python",
   "pygments_lexer": "ipython3",
   "version": "3.10.6"
  }
 },
 "nbformat": 4,
 "nbformat_minor": 5
}
