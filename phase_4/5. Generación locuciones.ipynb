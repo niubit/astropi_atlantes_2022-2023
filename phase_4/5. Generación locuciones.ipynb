{
 "cells": [
  {
   "cell_type": "markdown",
   "id": "74a3c654",
   "metadata": {},
   "source": [
    "# Generación locuciones\n",
    "\n",
    "## Introducción\n",
    "\n",
    "El objetivo del proyecto era representar las distintas culturas de la Tierra a través de su idioma, para lo que pretendemos acompañar la animación generada en el cuaderno anterior con distintos saludos en los idiomas predominantes de las zonas sobrevoladas."
   ]
  },
  {
   "cell_type": "markdown",
   "id": "6b0f6c36",
   "metadata": {},
   "source": [
    "https://pythonbasics.org/text-to-speech/\n",
    "https://codefather.tech/blog/make-python-speak/\n"
   ]
  },
  {
   "cell_type": "code",
   "execution_count": null,
   "id": "a29d4731",
   "metadata": {},
   "outputs": [],
   "source": [
    "# https://stackoverflow.com/questions/37799847/python-playing-a-video-with-audio-with-opencv\n",
    "import cv2\n",
    "import numpy as np\n",
    "#ffpyplayer for playing audio\n",
    "from ffpyplayer.player import MediaPlayer\n",
    "video_path=\"final.mp4\"\n",
    "def PlayVideo(video_path):\n",
    "    video=cv2.VideoCapture(video_path)\n",
    "    fps = video.get(cv2.CAP_PROP_FPS)\n",
    "    sleep_ms = int(round((1/fps)*1000))\n",
    "    player = MediaPlayer(video_path)\n",
    "    while True:\n",
    "        grabbed, frame=video.read()\n",
    "        audio_frame, val = player.get_frame()\n",
    "        if not grabbed:\n",
    "            print(\"End of video\")\n",
    "            break\n",
    "        cv2.imshow(\"Video\", frame)\n",
    "        if cv2.waitKey(sleep_ms) & 0xFF == ord(\"q\"):\n",
    "            break\n",
    "        if val != 'eof' and audio_frame is not None:\n",
    "            #audio\n",
    "            img, t = audio_frame\n",
    "    video.release()\n",
    "    cv2.destroyAllWindows()\n",
    "PlayVideo(video_path)"
   ]
  }
 ],
 "metadata": {
  "kernelspec": {
   "display_name": "Python 3 (ipykernel)",
   "language": "python",
   "name": "python3"
  },
  "language_info": {
   "codemirror_mode": {
    "name": "ipython",
    "version": 3
   },
   "file_extension": ".py",
   "mimetype": "text/x-python",
   "name": "python",
   "nbconvert_exporter": "python",
   "pygments_lexer": "ipython3",
   "version": "3.10.6"
  }
 },
 "nbformat": 4,
 "nbformat_minor": 5
}
